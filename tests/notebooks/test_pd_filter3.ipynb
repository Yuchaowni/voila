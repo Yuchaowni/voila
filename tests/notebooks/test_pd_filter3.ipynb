{
 "cells": [
  {
   "cell_type": "markdown",
   "metadata": {},
   "source": [
    "## double filter + style"
   ]
  },
  {
   "cell_type": "code",
   "execution_count": 10,
   "metadata": {
    "scrolled": true
   },
   "outputs": [
    {
     "data": {
      "application/vnd.jupyter.widget-view+json": {
       "model_id": "59b25bb2d9c44d069660ad53635f4720",
       "version_major": 2,
       "version_minor": 0
      },
      "text/plain": [
       "VBox(children=(IntSlider(value=4, description='$x$'), IntText(value=0, description='$x^2$', disabled=True, lay…"
      ]
     },
     "metadata": {},
     "output_type": "display_data"
    }
   ],
   "source": [
    "import ipywidgets as widgets\n",
    "import pandas as pd\n",
    "import matplotlib.pyplot as plt\n",
    "import seaborn as sns\n",
    "\n",
    "layout150=widgets.Layout(width= '150px', height='30px',display='flex' ,justify_content=\"center\")\n",
    "layout100=widgets.Layout(width= '100px', height='50px')\n",
    "layout50=widgets.Layout(width= '50px', height='50px')\n",
    "\n",
    "slider = widgets.IntSlider(description='$x$', value=4)\n",
    "text = widgets.IntText(disabled=True, description='$x^2$',layout=layout150)\n",
    "\n",
    "def compute(*ignore):\n",
    "    text.value = str(slider.value ** 2)\n",
    "\n",
    "slider.observe(compute,'value')\n",
    "widgets.VBox([slider, text])"
   ]
  },
  {
   "cell_type": "code",
   "execution_count": 20,
   "metadata": {},
   "outputs": [
    {
     "name": "stdout",
     "output_type": "stream",
     "text": [
      "<class 'pandas.core.frame.DataFrame'>\n",
      "Int64Index: 1000 entries, 18587 to 39553\n",
      "Data columns (total 11 columns):\n",
      " #   Column    Non-Null Count  Dtype  \n",
      "---  ------    --------------  -----  \n",
      " 0   year      1000 non-null   object \n",
      " 1   quarter   1000 non-null   object \n",
      " 2   market    1000 non-null   object \n",
      " 3   dur_stay  1000 non-null   object \n",
      " 4   mode      1000 non-null   object \n",
      " 5   purpose   1000 non-null   object \n",
      " 6   area      1000 non-null   object \n",
      " 7   Visits    1000 non-null   float64\n",
      " 8   Spend     1000 non-null   float64\n",
      " 9   Nights    1000 non-null   float64\n",
      " 10  sample    1000 non-null   int64  \n",
      "dtypes: float64(3), int64(1), object(7)\n",
      "memory usage: 93.8+ KB\n"
     ]
    }
   ],
   "source": [
    "import pandas as pd\n",
    "import numpy as np\n",
    "url = \"international-visitors-london-raw.csv\"\n",
    "df_london = pd.read_csv(url,encoding = \"ISO-8859-1\")\n",
    "df_london.columns = ['year', 'quarter', 'market', 'dur_stay', 'mode', 'purpose', 'area', \n",
    "                     'Visits', 'Spend', 'Nights', 'sample']\n",
    "df_london=df_london.sample(1000)\n",
    "df_london.info()\n",
    "#df_london.head()"
   ]
  },
  {
   "cell_type": "code",
   "execution_count": 12,
   "metadata": {},
   "outputs": [],
   "source": [
    "ALL = 'ALL'\n",
    "def unique_sorted_values_plus_ALL(array):\n",
    "    unique = array.unique().tolist()\n",
    "    unique.sort()\n",
    "    unique.insert(0, ALL)\n",
    "    return unique\n",
    "# add dropdown widget and its attribute\n",
    "dropdown_year =    widgets.Dropdown(options = unique_sorted_values_plus_ALL(df_london.year),layout=layout150)\n",
    "dropdown_purpose = widgets.Dropdown(options = unique_sorted_values_plus_ALL(df_london.purpose),layout=layout150)\n",
    "bounded_num = widgets.BoundedFloatText(min=0, max=100000, value=5, step=1,layout=layout150)\n",
    "# add output widget for rendering result and refresh each time\n",
    "output = widgets.Output(layout={'border': '1px solid black'})\n",
    "plot_output = widgets.Output()\n"
   ]
  },
  {
   "cell_type": "code",
   "execution_count": 13,
   "metadata": {},
   "outputs": [],
   "source": [
    "def colour_ge_value(value, comparison):\n",
    "    if value >= comparison:\n",
    "        return 'color:red'\n",
    "    else:\n",
    "        return 'color: black'\n",
    "\n",
    "def common_filtering(year, purpose, num):\n",
    "    output.clear_output()\n",
    "    plot_output.clear_output()\n",
    "\n",
    "    if (year == ALL) & (purpose == ALL):\n",
    "        common_filter = df_london\n",
    "    elif (year == ALL):\n",
    "        common_filter = df_london[df_london.purpose == purpose]\n",
    "    elif (purpose == ALL):\n",
    "        common_filter = df_london[df_london.year == year]\n",
    "    else:\n",
    "        common_filter = df_london[(df_london.year == year) & (df_london.purpose == purpose)]\n",
    "\n",
    "    with output:\n",
    "        display(common_filter.style.applymap(lambda x:colour_ge_value(x, num),\n",
    "                                             subset=['Visits','Spend', 'Nights']))\n",
    "    with plot_output:\n",
    "        sns.kdeplot(common_filter['Visits'], shade=True)\n",
    "        plt.show()\n",
    "\n",
    "def dropdown_year_eventhandler(change):\n",
    "    common_filtering(change.new,          dropdown_purpose.value, bounded_num.value)\n",
    "def dropdown_purpose_eventhandler(change):\n",
    "    common_filtering(dropdown_year.value, change.new,             bounded_num.value)\n",
    "def bounded_num_eventhandler(change):\n",
    "    common_filtering(dropdown_year.value, dropdown_purpose.value, change.new)\n",
    "    "
   ]
  },
  {
   "cell_type": "code",
   "execution_count": 14,
   "metadata": {
    "scrolled": false
   },
   "outputs": [],
   "source": [
    "# add observe\n",
    "dropdown_year.observe   (dropdown_year_eventhandler,    names='value')\n",
    "dropdown_purpose.observe(dropdown_purpose_eventhandler,names='value')\n",
    "bounded_num.observe(bounded_num_eventhandler,names='value')\n",
    "\n",
    "#widgets.VBox([dropdown_year, dropdown_purpose, bounded_num,output,plot_output])"
   ]
  },
  {
   "cell_type": "markdown",
   "metadata": {},
   "source": [
    "# Dashboard"
   ]
  },
  {
   "cell_type": "code",
   "execution_count": 15,
   "metadata": {},
   "outputs": [],
   "source": [
    "columns_widgets = widgets.HBox([widgets.Label(value='Year',layout=layout150),\n",
    "                               widgets.Label(value='Purpose',layout=layout150),\n",
    "                               widgets.Label(value='Minimum',layout=layout150)])"
   ]
  },
  {
   "cell_type": "code",
   "execution_count": 16,
   "metadata": {},
   "outputs": [
    {
     "data": {
      "application/vnd.jupyter.widget-view+json": {
       "model_id": "a98dedc69f014a81b747c64aa30a8e85",
       "version_major": 2,
       "version_minor": 0
      },
      "text/plain": [
       "VBox(children=(HBox(children=(Label(value='Year', layout=Layout(display='flex', height='30px', justify_content…"
      ]
     },
     "metadata": {},
     "output_type": "display_data"
    }
   ],
   "source": [
    "input_widgets = widgets.HBox([dropdown_year, dropdown_purpose, bounded_num])\n",
    "tab = widgets.Tab([output,plot_output])\n",
    "tab.set_title(0, 'Dataset Exploration')\n",
    "tab.set_title(1, 'KDE Plot')\n",
    "dashboard = widgets.VBox([columns_widgets,input_widgets, tab])\n",
    "display(dashboard)"
   ]
  },
  {
   "cell_type": "code",
   "execution_count": null,
   "metadata": {},
   "outputs": [],
   "source": []
  }
 ],
 "metadata": {
  "kernelspec": {
   "display_name": "Python [conda env:rainymotion] *",
   "language": "python",
   "name": "conda-env-rainymotion-py"
  },
  "language_info": {
   "codemirror_mode": {
    "name": "ipython",
    "version": 3
   },
   "file_extension": ".py",
   "mimetype": "text/x-python",
   "name": "python",
   "nbconvert_exporter": "python",
   "pygments_lexer": "ipython3",
   "version": "3.8.2"
  }
 },
 "nbformat": 4,
 "nbformat_minor": 4
}
